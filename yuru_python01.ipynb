{
  "nbformat": 4,
  "nbformat_minor": 0,
  "metadata": {
    "colab": {
      "name": "yuru_python01.ipynb",
      "provenance": [],
      "authorship_tag": "ABX9TyPHW6D3bLRb87DXag2PnAuA",
      "include_colab_link": true
    },
    "kernelspec": {
      "name": "python3",
      "display_name": "Python 3"
    }
  },
  "cells": [
    {
      "cell_type": "markdown",
      "metadata": {
        "id": "view-in-github",
        "colab_type": "text"
      },
      "source": [
        "<a href=\"https://colab.research.google.com/github/reiko-kojima/reiko-kojima.github.io/blob/master/yuru_python01.ipynb\" target=\"_parent\"><img src=\"https://colab.research.google.com/assets/colab-badge.svg\" alt=\"Open In Colab\"/></a>"
      ]
    },
    {
      "cell_type": "code",
      "metadata": {
        "colab": {
          "base_uri": "https://localhost:8080/"
        },
        "id": "iTl9gV4ymPKm",
        "outputId": "c8ef1328-1d5d-4f6a-b2d2-b254ca036872"
      },
      "source": [
        "print(\"hello\\nhello\")"
      ],
      "execution_count": 6,
      "outputs": [
        {
          "output_type": "stream",
          "text": [
            "hello\n",
            "hello\n"
          ],
          "name": "stdout"
        }
      ]
    },
    {
      "cell_type": "code",
      "metadata": {
        "colab": {
          "base_uri": "https://localhost:8080/"
        },
        "id": "ctEpQT_g-b3h",
        "outputId": "94af927c-4e63-48b2-da87-15408c763f32"
      },
      "source": [
        "print(\"\"\"Hello\r\n",
        "HEllo\r\n",
        "Hello\"\"\")"
      ],
      "execution_count": 8,
      "outputs": [
        {
          "output_type": "stream",
          "text": [
            "Hello\n",
            "HEllo\n",
            "Hello\n"
          ],
          "name": "stdout"
        }
      ]
    },
    {
      "cell_type": "code",
      "metadata": {
        "colab": {
          "base_uri": "https://localhost:8080/"
        },
        "id": "1qh6fu9f_YsW",
        "outputId": "8eccf76d-b515-4dd4-8d72-86f280fb1304"
      },
      "source": [
        "print(\"ri\"+\"bo\")"
      ],
      "execution_count": 10,
      "outputs": [
        {
          "output_type": "stream",
          "text": [
            "ribo\n"
          ],
          "name": "stdout"
        }
      ]
    },
    {
      "cell_type": "code",
      "metadata": {
        "colab": {
          "base_uri": "https://localhost:8080/"
        },
        "id": "F9psCTGg_1xu",
        "outputId": "bd4a8ba3-cbbc-457a-8a05-723d6a04cc3a"
      },
      "source": [
        "name = \"ribo\"\r\n",
        "print(name)"
      ],
      "execution_count": 12,
      "outputs": [
        {
          "output_type": "stream",
          "text": [
            "ribo\n"
          ],
          "name": "stdout"
        }
      ]
    },
    {
      "cell_type": "code",
      "metadata": {
        "colab": {
          "base_uri": "https://localhost:8080/",
          "height": 35
        },
        "id": "W8tFZz3sALNt",
        "outputId": "60ca730d-fa34-4adb-e4bf-bd114c580777"
      },
      "source": [
        "title = \"python\"\r\n",
        "title[1:5]"
      ],
      "execution_count": 15,
      "outputs": [
        {
          "output_type": "execute_result",
          "data": {
            "application/vnd.google.colaboratory.intrinsic+json": {
              "type": "string"
            },
            "text/plain": [
              "'ytho'"
            ]
          },
          "metadata": {
            "tags": []
          },
          "execution_count": 15
        }
      ]
    },
    {
      "cell_type": "code",
      "metadata": {
        "colab": {
          "base_uri": "https://localhost:8080/"
        },
        "id": "XdN6EIBJCMaa",
        "outputId": "7a443331-4d89-4812-9fbc-d1797f62134c"
      },
      "source": [
        "max_Width = 10\r\n",
        "Max_width = 20\r\n",
        "\r\n",
        "print(max_Width)\r\n",
        "print(Max_width)"
      ],
      "execution_count": 18,
      "outputs": [
        {
          "output_type": "stream",
          "text": [
            "10\n",
            "20\n"
          ],
          "name": "stdout"
        }
      ]
    },
    {
      "cell_type": "code",
      "metadata": {
        "colab": {
          "base_uri": "https://localhost:8080/"
        },
        "id": "I2oLuKjSEpkM",
        "outputId": "17a4e4df-9178-474d-84df-8582dee08f7e"
      },
      "source": [
        "len(\"python\") #文字数を教えてくれる\r\n",
        "min(1, 5, 9)"
      ],
      "execution_count": 20,
      "outputs": [
        {
          "output_type": "execute_result",
          "data": {
            "text/plain": [
              "1"
            ]
          },
          "metadata": {
            "tags": []
          },
          "execution_count": 20
        }
      ]
    },
    {
      "cell_type": "code",
      "metadata": {
        "colab": {
          "base_uri": "https://localhost:8080/"
        },
        "id": "nqt1WUsRFjts",
        "outputId": "b40a3b7b-30d8-49cc-a373-7e7667864116"
      },
      "source": [
        "import random\r\n",
        "random.randint(1, 10)"
      ],
      "execution_count": 22,
      "outputs": [
        {
          "output_type": "execute_result",
          "data": {
            "text/plain": [
              "9"
            ]
          },
          "metadata": {
            "tags": []
          },
          "execution_count": 22
        }
      ]
    },
    {
      "cell_type": "code",
      "metadata": {
        "id": "PJGrU5ejH6Tx"
      },
      "source": [
        ""
      ],
      "execution_count": null,
      "outputs": []
    }
  ]
}